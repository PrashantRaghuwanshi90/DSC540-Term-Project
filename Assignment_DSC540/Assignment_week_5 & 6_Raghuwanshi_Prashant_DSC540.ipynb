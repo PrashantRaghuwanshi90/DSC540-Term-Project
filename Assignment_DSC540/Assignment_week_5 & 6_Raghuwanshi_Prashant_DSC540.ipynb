{
 "cells": [
  {
   "cell_type": "markdown",
   "id": "f3d45d0a",
   "metadata": {},
   "source": [
    "##### Assignment: Week 5 & Week 6 Exercise, Data Formats/Data Structures/Data Sources\n",
    "##### Name: Prashant Raghuwanshi\n",
    "##### Date: 10/08/2021\n",
    "##### Course: DSC540-T301 Data Preparation (2221-1)"
   ]
  },
  {
   "cell_type": "markdown",
   "id": "7ef1a8e3",
   "metadata": {},
   "source": [
    "###### Complete the following exercises. You can submit a Jupyter Notebook or a PDF of your code. If you submit a .py file you need to also include a PDF or attachment of your results."
   ]
  },
  {
   "cell_type": "markdown",
   "id": "1fc06b8d",
   "metadata": {},
   "source": [
    "###### 1. Data Wrangling with Python: Activity 7, page 207"
   ]
  },
  {
   "cell_type": "code",
   "execution_count": 1,
   "id": "290dc6ff",
   "metadata": {},
   "outputs": [],
   "source": [
    "# Import libraries\n",
    "import pandas as pd\n",
    "from bs4 import BeautifulSoup"
   ]
  },
  {
   "cell_type": "code",
   "execution_count": 2,
   "id": "b96bab9f",
   "metadata": {},
   "outputs": [
    {
     "data": {
      "text/plain": [
       "<function TextIOWrapper.close()>"
      ]
     },
     "execution_count": 2,
     "metadata": {},
     "output_type": "execute_result"
    }
   ],
   "source": [
    "#reading the data from html file by using bs4\n",
    "fd = open(\"C:/Users/dell/Documents/docker/List of countries by GDP (nominal) - Wikipedia.htm\", \"r\", encoding=\"utf8\")\n",
    "soup = BeautifulSoup(fd)\n",
    "fd.close"
   ]
  },
  {
   "cell_type": "code",
   "execution_count": 3,
   "id": "944f1f43",
   "metadata": {},
   "outputs": [
    {
     "name": "stdout",
     "output_type": "stream",
     "text": [
      "Total number of tables are 9\n"
     ]
    }
   ],
   "source": [
    "# Calculate the tables counts in html document:\n",
    "all_tables_cnt = soup.find_all(\"table\")\n",
    "print(\"Total number of tables are {}\".format(len(all_tables_cnt)))"
   ]
  },
  {
   "cell_type": "code",
   "execution_count": 4,
   "id": "17d37311",
   "metadata": {},
   "outputs": [
    {
     "name": "stdout",
     "output_type": "stream",
     "text": [
      "<class 'bs4.element.Tag'>\n"
     ]
    }
   ],
   "source": [
    "# list out right table by using class attribute\n",
    "data_table = soup.find(\"table\", {\"class\": '\"wikitable\"|}'})\n",
    "print(type(data_table))"
   ]
  },
  {
   "cell_type": "code",
   "execution_count": 5,
   "id": "0368fafa",
   "metadata": {},
   "outputs": [],
   "source": [
    "#find out tr_elements\n",
    "tr_elements = soup.find_all('table')[2].find_all('tr')"
   ]
  },
  {
   "cell_type": "code",
   "execution_count": 6,
   "id": "60f8ef79",
   "metadata": {},
   "outputs": [
    {
     "name": "stdout",
     "output_type": "stream",
     "text": [
      "3\n"
     ]
    }
   ],
   "source": [
    "# Seperate source and actual data\n",
    "sources = data_table.tbody.findAll('tr', recursive=False)[0]\n",
    "sources_list = [td for td in sources.find_all('td')]\n",
    "print(len(sources_list))"
   ]
  },
  {
   "cell_type": "code",
   "execution_count": 7,
   "id": "04e16631",
   "metadata": {},
   "outputs": [],
   "source": [
    "# using findAll functions to find the data from the data_table body tag\n",
    "data = data_table.tbody.findAll('tr', recursive=False)[1].findAll('td', recursive=False)"
   ]
  },
  {
   "cell_type": "code",
   "execution_count": 8,
   "id": "71e341b5",
   "metadata": {},
   "outputs": [
    {
     "data": {
      "text/plain": [
       "3"
      ]
     },
     "execution_count": 8,
     "metadata": {},
     "output_type": "execute_result"
    }
   ],
   "source": [
    "# using findAll function to find out the data from data_table td\n",
    "data_tables = []\n",
    "for td in data:\n",
    "    data_tables.append(td.findAll('table'))\n",
    "# find the length of data table\n",
    "len(data_tables)"
   ]
  },
  {
   "cell_type": "code",
   "execution_count": 9,
   "id": "1e42ac26",
   "metadata": {},
   "outputs": [
    {
     "name": "stdout",
     "output_type": "stream",
     "text": [
      "['International Monetary Fund', 'World Bank', 'United Nations']\n"
     ]
    }
   ],
   "source": [
    "# getting list of source name\n",
    "sources_names = [sources.findAll('a')[0].getText() for sources in sources_list]\n",
    "print(sources_names)"
   ]
  },
  {
   "cell_type": "code",
   "execution_count": 10,
   "id": "194772b9",
   "metadata": {},
   "outputs": [
    {
     "data": {
      "text/plain": [
       "['Rank', 'Country', 'GDP(US$MM)']"
      ]
     },
     "execution_count": 10,
     "metadata": {},
     "output_type": "execute_result"
    }
   ],
   "source": [
    "# seperate the header and  data for the source name\n",
    "header1 = [th.getText().strip() for th in data_tables[0][0].findAll('thead')[0].findAll('th')]\n",
    "header1"
   ]
  },
  {
   "cell_type": "code",
   "execution_count": 11,
   "id": "b8a3790b",
   "metadata": {},
   "outputs": [],
   "source": [
    "#find the rows from data table using findAll\n",
    "rows1 = data_tables[0][0].findAll('tbody')[0].findAll('tr')[1:]"
   ]
  },
  {
   "cell_type": "code",
   "execution_count": 12,
   "id": "764020ef",
   "metadata": {},
   "outputs": [],
   "source": [
    "# find data from rows1 by using strip function for each td tag\n",
    "data_rows1 = [[td.get_text().strip() for td in tr.findAll('td')] for tr in rows1]"
   ]
  },
  {
   "cell_type": "code",
   "execution_count": 13,
   "id": "de9d3996",
   "metadata": {},
   "outputs": [
    {
     "data": {
      "text/html": [
       "<div>\n",
       "<style scoped>\n",
       "    .dataframe tbody tr th:only-of-type {\n",
       "        vertical-align: middle;\n",
       "    }\n",
       "\n",
       "    .dataframe tbody tr th {\n",
       "        vertical-align: top;\n",
       "    }\n",
       "\n",
       "    .dataframe thead th {\n",
       "        text-align: right;\n",
       "    }\n",
       "</style>\n",
       "<table border=\"1\" class=\"dataframe\">\n",
       "  <thead>\n",
       "    <tr style=\"text-align: right;\">\n",
       "      <th></th>\n",
       "      <th>Rank</th>\n",
       "      <th>Country</th>\n",
       "      <th>GDP(US$MM)</th>\n",
       "    </tr>\n",
       "  </thead>\n",
       "  <tbody>\n",
       "    <tr>\n",
       "      <th>0</th>\n",
       "      <td>1</td>\n",
       "      <td>United States</td>\n",
       "      <td>19,390,600</td>\n",
       "    </tr>\n",
       "    <tr>\n",
       "      <th>1</th>\n",
       "      <td>2</td>\n",
       "      <td>China[n 1]</td>\n",
       "      <td>12,014,610</td>\n",
       "    </tr>\n",
       "    <tr>\n",
       "      <th>2</th>\n",
       "      <td>3</td>\n",
       "      <td>Japan</td>\n",
       "      <td>4,872,135</td>\n",
       "    </tr>\n",
       "    <tr>\n",
       "      <th>3</th>\n",
       "      <td>4</td>\n",
       "      <td>Germany</td>\n",
       "      <td>3,684,816</td>\n",
       "    </tr>\n",
       "    <tr>\n",
       "      <th>4</th>\n",
       "      <td>5</td>\n",
       "      <td>United Kingdom</td>\n",
       "      <td>2,624,529</td>\n",
       "    </tr>\n",
       "  </tbody>\n",
       "</table>\n",
       "</div>"
      ],
      "text/plain": [
       "  Rank         Country  GDP(US$MM)\n",
       "0    1   United States  19,390,600\n",
       "1    2      China[n 1]  12,014,610\n",
       "2    3           Japan   4,872,135\n",
       "3    4         Germany   3,684,816\n",
       "4    5  United Kingdom   2,624,529"
      ]
     },
     "execution_count": 13,
     "metadata": {},
     "output_type": "execute_result"
    }
   ],
   "source": [
    "#create dataframe\n",
    "df1 = pd.DataFrame(data_rows1, columns=header1)\n",
    "df1.head()"
   ]
  },
  {
   "cell_type": "code",
   "execution_count": 14,
   "id": "e9bda7e8",
   "metadata": {},
   "outputs": [
    {
     "data": {
      "text/plain": [
       "['Rank', 'Country', 'GDP(US$MM)']"
      ]
     },
     "execution_count": 14,
     "metadata": {},
     "output_type": "execute_result"
    }
   ],
   "source": [
    "# seperate the header and  data for the second source name\n",
    "header2 = [th.getText().strip() for th in data_tables[1][0].findAll('thead')[0].findAll('th')]\n",
    "header2"
   ]
  },
  {
   "cell_type": "code",
   "execution_count": 15,
   "id": "e63c71a0",
   "metadata": {},
   "outputs": [],
   "source": [
    "#find the rows from data table using findAll for source 2\n",
    "rows2 = data_tables[1][0].findAll('tbody')[0].findAll('tr')[1:]"
   ]
  },
  {
   "cell_type": "code",
   "execution_count": 16,
   "id": "9b2dbde4",
   "metadata": {},
   "outputs": [
    {
     "data": {
      "text/plain": [
       "[['1', 'United States', '7007193906040000000♠19,390,604'],\n",
       " ['', 'European Union[23]', '7007172776980000000♠17,277,698'],\n",
       " ['2', 'China[n 4]', '7007122377000000000♠12,237,700'],\n",
       " ['3', 'Japan', '7006487213700000000♠4,872,137'],\n",
       " ['4', 'Germany', '7006367743900000000♠3,677,439'],\n",
       " ['5', 'United Kingdom', '7006262243400000000♠2,622,434'],\n",
       " ['6', 'India', '7006259749100000000♠2,597,491'],\n",
       " ['7', 'France', '7006258250100000000♠2,582,501'],\n",
       " ['8', 'Brazil', '7006205550600000000♠2,055,506'],\n",
       " ['9', 'Italy', '7006193479800000000♠1,934,798'],\n",
       " ['10', 'Canada', '7006165304300000000♠1,653,043'],\n",
       " ['11', 'Russia[n 2]', '7006157752400000000♠1,577,524'],\n",
       " ['12', 'South Korea', '7006153075100000000♠1,530,751'],\n",
       " ['13', 'Australia', '7006132342100000000♠1,323,421'],\n",
       " ['14', 'Spain', '7006131132000000000♠1,311,320'],\n",
       " ['15', 'Mexico', '7006114991900000000♠1,149,919'],\n",
       " ['16', 'Indonesia', '7006101553900000000♠1,015,539'],\n",
       " ['17', 'Turkey', '7005851102000000000♠851,102'],\n",
       " ['18', 'Netherlands', '7005826200000000000♠826,200'],\n",
       " ['19', 'Saudi Arabia', '7005683827000000000♠683,827'],\n",
       " ['20', 'Switzerland', '7005678887000000000♠678,887'],\n",
       " ['21', 'Argentina', '7005637590000000000♠637,590'],\n",
       " ['22', 'Sweden', '7005538040000000000♠538,040'],\n",
       " ['23', 'Poland', '7005524510000000000♠524,510'],\n",
       " ['24', 'Belgium', '7005492681000000000♠492,681'],\n",
       " ['25', 'Thailand', '7005455221000000000♠455,221'],\n",
       " ['26', 'Iran', '7005439514000000000♠439,514'],\n",
       " ['27', 'Austria', '7005416596000000000♠416,596'],\n",
       " ['28', 'Norway', '7005398832000000000♠398,832'],\n",
       " ['29', 'United Arab Emirates', '7005382575000000000♠382,575'],\n",
       " ['30', 'Nigeria', '7005375771000000000♠375,771'],\n",
       " ['31', 'Israel', '7005350851000000000♠350,851'],\n",
       " ['32', 'South Africa', '7005349419000000000♠349,419'],\n",
       " ['33', 'Hong Kong', '7005341449000000000♠341,449'],\n",
       " ['34', 'Ireland', '7005333731000000000♠333,731'],\n",
       " ['35', 'Denmark', '7005324872000000000♠324,872'],\n",
       " ['36', 'Singapore', '7005323907000000000♠323,907'],\n",
       " ['37', 'Malaysia', '7005314500000000000♠314,500'],\n",
       " ['38', 'Philippines', '7005313595000000000♠313,595'],\n",
       " ['39', 'Colombia', '7005309191000000000♠309,191'],\n",
       " ['40', 'Pakistan', '7005304952000000000♠304,952'],\n",
       " ['41', 'Chile', '7005277076000000000♠277,076'],\n",
       " ['42', 'Finland', '7005251885000000000♠251,885'],\n",
       " ['43', 'Bangladesh', '7005249724000000000♠249,724'],\n",
       " ['44', 'Egypt', '7005235369000000000♠235,369'],\n",
       " ['45', 'Vietnam', '7005223864000000000♠223,864'],\n",
       " ['46', 'Portugal', '7005217571000000000♠217,571'],\n",
       " ['47', 'Czech Republic', '7005215726000000000♠215,726'],\n",
       " ['48', 'Romania', '7005211803000000000♠211,803'],\n",
       " ['49', 'Peru', '7005211389000000000♠211,389'],\n",
       " ['50', 'New Zealand', '7005205853000000000♠205,853'],\n",
       " ['51', 'Greece', '7005200288000000000♠200,288'],\n",
       " ['52', 'Iraq', '7005197716000000000♠197,716'],\n",
       " ['53', 'Algeria', '7005170371000000000♠170,371'],\n",
       " ['54', 'Qatar', '7005167605000000000♠167,605'],\n",
       " ['55', 'Kazakhstan', '7005159407000000000♠159,407'],\n",
       " ['56', 'Hungary', '7005139135000000000♠139,135'],\n",
       " ['57', 'Angola', '7005124209000000000♠124,209'],\n",
       " ['58', 'Kuwait', '7005120126000000000♠120,126'],\n",
       " ['59', 'Sudan', '7005117488000000000♠117,488'],\n",
       " ['60', 'Ukraine', '7005112154000000000♠112,154'],\n",
       " ['61', 'Morocco[n 5]', '7005109139000000000♠109,139'],\n",
       " ['62', 'Ecuador', '7005103057000000000♠103,057'],\n",
       " ['63', 'Slovak Republic', '7004957690000000000♠95,769'],\n",
       " ['64', 'Sri Lanka', '7004871750000000000♠87,175'],\n",
       " ['65', 'Ethiopia', '7004805610000000000♠80,561'],\n",
       " ['66', 'Dominican Republic', '7004759320000000000♠75,932'],\n",
       " ['67', 'Guatemala', '7004756200000000000♠75,620'],\n",
       " ['68', 'Kenya', '7004749380000000000♠74,938'],\n",
       " ['69', 'Oman', '7004726430000000000♠72,643'],\n",
       " ['70', 'Myanmar', '7004693220000000000♠69,322'],\n",
       " ['71', 'Luxembourg', '7004624040000000000♠62,404'],\n",
       " ['72', 'Panama', '7004618380000000000♠61,838'],\n",
       " ['73', 'Costa Rica', '7004570570000000000♠57,057'],\n",
       " ['74', 'Bulgaria', '7004568320000000000♠56,832'],\n",
       " ['75', 'Uruguay', '7004561570000000000♠56,157'],\n",
       " ['76', 'Croatia', '7004548490000000000♠54,849'],\n",
       " ['77', 'Belarus', '7004544420000000000♠54,442'],\n",
       " ['78', 'Tanzania[n 6]', '7004520900000000000♠52,090'],\n",
       " ['79', 'Lebanon', '7004518440000000000♠51,844'],\n",
       " ['80', 'Libya', '7004509840000000000♠50,984'],\n",
       " ['81', 'Macau', '7004503610000000000♠50,361'],\n",
       " ['82', 'Slovenia', '7004487700000000000♠48,770'],\n",
       " ['83', 'Uzbekistan', '7004487180000000000♠48,718'],\n",
       " ['84', 'Ghana', '7004473300000000000♠47,330'],\n",
       " ['85', 'Lithuania', '7004471680000000000♠47,168'],\n",
       " ['86', 'Turkmenistan', '7004423550000000000♠42,355'],\n",
       " ['87', 'Serbia', '7004414320000000000♠41,432'],\n",
       " ['88', 'Azerbaijan', '7004407480000000000♠40,748'],\n",
       " ['89', \"Cote d'Ivoire\", '7004403890000000000♠40,389'],\n",
       " ['90', 'Tunisia', '7004402570000000000♠40,257'],\n",
       " ['91', 'Jordan', '7004400680000000000♠40,068'],\n",
       " ['92', 'Bolivia', '7004375090000000000♠37,509'],\n",
       " ['93', 'Democratic Republic of the Congo', '7004372410000000000♠37,241'],\n",
       " ['94', 'Bahrain', '7004353070000000000♠35,307'],\n",
       " ['95', 'Cameroon', '7004347990000000000♠34,799'],\n",
       " ['96', 'Latvia', '7004302640000000000♠30,264'],\n",
       " ['97', 'Paraguay', '7004297350000000000♠29,735'],\n",
       " ['98', 'Estonia', '7004259210000000000♠25,921'],\n",
       " ['99', 'Uganda', '7004258910000000000♠25,891'],\n",
       " ['100', 'Zambia', '7004258090000000000♠25,809'],\n",
       " ['101', 'El Salvador', '7004248050000000000♠24,805'],\n",
       " ['102', 'Nepal', '7004244720000000000♠24,472'],\n",
       " ['103', 'Iceland', '7004239090000000000♠23,909'],\n",
       " ['104', 'Honduras', '7004229790000000000♠22,979'],\n",
       " ['105', 'Cambodia', '7004221580000000000♠22,158'],\n",
       " ['106', 'Trinidad and Tobago', '7004221050000000000♠22,105'],\n",
       " ['107', 'Cyprus[n 7]', '7004216520000000000♠21,652'],\n",
       " ['108', 'Papua New Guinea', '7004210890000000000♠21,089'],\n",
       " ['109', 'Afghanistan', '7004208150000000000♠20,815'],\n",
       " ['110', 'Bosnia and Herzegovina', '7004181690000000000♠18,169'],\n",
       " ['111', 'Zimbabwe', '7004178460000000000♠17,846'],\n",
       " ['112', 'Botswana', '7004174070000000000♠17,407'],\n",
       " ['113', 'Laos', '7004168530000000000♠16,853'],\n",
       " ['114', 'Senegal', '7004163750000000000♠16,375'],\n",
       " ['115', 'Mali', '7004152880000000000♠15,288'],\n",
       " ['116', 'Georgia[n 8]', '7004151590000000000♠15,159'],\n",
       " ['117', 'Jamaica', '7004147680000000000♠14,768'],\n",
       " ['118', 'Gabon', '7004146230000000000♠14,623'],\n",
       " ['119', 'West Bank and Gaza', '7004144980000000000♠14,498'],\n",
       " ['120', 'Nicaragua', '7004138140000000000♠13,814'],\n",
       " ['121', 'Mauritius', '7004133380000000000♠13,338'],\n",
       " ['122', 'Namibia', '7004132450000000000♠13,245'],\n",
       " ['123', 'Albania', '7004130390000000000♠13,039'],\n",
       " ['124', 'Burkina Faso', '7004128730000000000♠12,873'],\n",
       " ['125', 'Malta', '7004125380000000000♠12,538'],\n",
       " ['126', 'Equatorial Guinea', '7004124870000000000♠12,487'],\n",
       " ['127', 'Mozambique', '7004123340000000000♠12,334'],\n",
       " ['128', 'The Bahamas', '7004121620000000000♠12,162'],\n",
       " ['129', 'Brunei', '7004121280000000000♠12,128'],\n",
       " ['130', 'Armenia', '7004115370000000000♠11,537'],\n",
       " ['131', 'Madagascar', '7004115000000000000♠11,500'],\n",
       " ['132', 'Mongolia', '7004114880000000000♠11,488'],\n",
       " ['133', 'Macedonia', '7004113380000000000♠11,338'],\n",
       " ['134', 'Guinea', '7004104910000000000♠10,491'],\n",
       " ['135', 'Chad', '7003998100000000000♠9,981'],\n",
       " ['136', 'Benin', '7003927400000000000♠9,274'],\n",
       " ['137', 'Rwanda', '7003913700000000000♠9,137'],\n",
       " ['138', 'Republic of the Congo', '7003872300000000000♠8,723'],\n",
       " ['139', 'Haiti', '7003840800000000000♠8,408'],\n",
       " ['140', 'Moldova[n 9]', '7003812800000000000♠8,128'],\n",
       " ['141', 'Niger', '7003812000000000000♠8,120'],\n",
       " ['142', 'Kyrgyzstan', '7003756500000000000♠7,565'],\n",
       " ['143', 'Somalia', '7003736900000000000♠7,369'],\n",
       " ['144', 'Tajikistan', '7003714600000000000♠7,146'],\n",
       " ['145', 'Kosovo', '7003712900000000000♠7,129'],\n",
       " ['146', 'Malawi', '7003630300000000000♠6,303'],\n",
       " ['147', 'Fiji', '7003506100000000000♠5,061'],\n",
       " ['148', 'Mauritania', '7003502500000000000♠5,025'],\n",
       " ['149', 'Togo', '7003481300000000000♠4,813'],\n",
       " ['150', 'Barbados', '7003479700000000000♠4,797'],\n",
       " ['151', 'Montenegro', '7003477400000000000♠4,774'],\n",
       " ['152', 'Maldives', '7003459700000000000♠4,597'],\n",
       " ['153', 'Swaziland', '7003440900000000000♠4,409'],\n",
       " ['154', 'Sierra Leone', '7003377400000000000♠3,774'],\n",
       " ['155', 'Guyana', '7003367600000000000♠3,676'],\n",
       " ['156', 'Burundi', '7003347800000000000♠3,478'],\n",
       " ['157', 'Suriname', '7003332400000000000♠3,324'],\n",
       " ['158', 'Andorra', '7003301300000000000♠3,013'],\n",
       " ['159', 'Timor-Leste', '7003295500000000000♠2,955'],\n",
       " ['160', 'Lesotho', '7003263900000000000♠2,639'],\n",
       " ['161', 'Bhutan', '7003251200000000000♠2,512'],\n",
       " ['162', 'Liberia', '7003215800000000000♠2,158'],\n",
       " ['163', 'Central African Republic', '7003194900000000000♠1,949'],\n",
       " ['164', 'Djibouti', '7003184500000000000♠1,845'],\n",
       " ['165', 'Belize', '7003183800000000000♠1,838'],\n",
       " ['166', 'Cabo Verde', '7003175400000000000♠1,754'],\n",
       " ['167', 'Saint Lucia', '7003171200000000000♠1,712'],\n",
       " ['168', 'San Marino', '7003165900000000000♠1,659'],\n",
       " ['169', 'Antigua and Barbuda', '7003153200000000000♠1,532'],\n",
       " ['170', 'Seychelles', '7003148600000000000♠1,486'],\n",
       " ['171', 'Guinea-Bissau', '7003134700000000000♠1,347'],\n",
       " ['172', 'Solomon Islands', '7003130300000000000♠1,303'],\n",
       " ['173', 'Grenada', '7003111900000000000♠1,119'],\n",
       " ['174', 'The Gambia', '7003101500000000000♠1,015'],\n",
       " ['175', 'Saint Kitts and Nevis', '7002946000000000000♠946'],\n",
       " ['176', 'Vanuatu', '7002863000000000000♠863'],\n",
       " ['177', 'Samoa', '7002857000000000000♠857'],\n",
       " ['178', 'Saint Vincent and the Grenadines', '7002790000000000000♠790'],\n",
       " ['179', 'Comoros', '7002649000000000000♠649'],\n",
       " ['180', 'Dominica', '7002563000000000000♠563'],\n",
       " ['181', 'Tonga', '7002426000000000000♠426'],\n",
       " ['182', 'Sao Tome and Principe', '7002391000000000000♠391'],\n",
       " ['183', 'Federated States of Micronesia', '7002336000000000000♠336'],\n",
       " ['184', 'Palau', '7002292000000000000♠292'],\n",
       " ['185', 'Marshall Islands', '7002199000000000000♠199'],\n",
       " ['186', 'Kiribati', '7002196000000000000♠196'],\n",
       " ['187', 'Nauru', '7002114000000000000♠114'],\n",
       " ['188', 'Tuvalu', '7001400000000000000♠40']]"
      ]
     },
     "execution_count": 16,
     "metadata": {},
     "output_type": "execute_result"
    }
   ],
   "source": [
    "# find data from rows1 by using strip function for each td tag\n",
    "data_rows2_a = [[td.get_text().strip() for td in tr.findAll('td')] for tr in rows2]\n",
    "data_rows2_a"
   ]
  },
  {
   "cell_type": "code",
   "execution_count": 17,
   "id": "ad945430",
   "metadata": {},
   "outputs": [],
   "source": [
    "# Removing unwanted data values by using strip function\n",
    "def find_right_text(i, td):\n",
    "    if i == 0:\n",
    "        return td.getText().strip()\n",
    "    elif i == 1:\n",
    "        return td.getText().strip()\n",
    "    else:\n",
    "        index = td.text.find(\"♠\")\n",
    "        return td.text[index+1:].strip()"
   ]
  },
  {
   "cell_type": "code",
   "execution_count": 18,
   "id": "e54f9aea",
   "metadata": {},
   "outputs": [],
   "source": [
    "# find data from rows2 by using strip function for each td tag\n",
    "data_rows2 = [[find_right_text(i, td) for i, td in enumerate(tr.findAll('td'))] for tr in rows2]"
   ]
  },
  {
   "cell_type": "code",
   "execution_count": 19,
   "id": "1150b4f5",
   "metadata": {},
   "outputs": [
    {
     "data": {
      "text/html": [
       "<div>\n",
       "<style scoped>\n",
       "    .dataframe tbody tr th:only-of-type {\n",
       "        vertical-align: middle;\n",
       "    }\n",
       "\n",
       "    .dataframe tbody tr th {\n",
       "        vertical-align: top;\n",
       "    }\n",
       "\n",
       "    .dataframe thead th {\n",
       "        text-align: right;\n",
       "    }\n",
       "</style>\n",
       "<table border=\"1\" class=\"dataframe\">\n",
       "  <thead>\n",
       "    <tr style=\"text-align: right;\">\n",
       "      <th></th>\n",
       "      <th>Rank</th>\n",
       "      <th>Country</th>\n",
       "      <th>GDP(US$MM)</th>\n",
       "    </tr>\n",
       "  </thead>\n",
       "  <tbody>\n",
       "    <tr>\n",
       "      <th>0</th>\n",
       "      <td>1</td>\n",
       "      <td>United States</td>\n",
       "      <td>19,390,604</td>\n",
       "    </tr>\n",
       "    <tr>\n",
       "      <th>1</th>\n",
       "      <td></td>\n",
       "      <td>European Union[23]</td>\n",
       "      <td>17,277,698</td>\n",
       "    </tr>\n",
       "    <tr>\n",
       "      <th>2</th>\n",
       "      <td>2</td>\n",
       "      <td>China[n 4]</td>\n",
       "      <td>12,237,700</td>\n",
       "    </tr>\n",
       "    <tr>\n",
       "      <th>3</th>\n",
       "      <td>3</td>\n",
       "      <td>Japan</td>\n",
       "      <td>4,872,137</td>\n",
       "    </tr>\n",
       "    <tr>\n",
       "      <th>4</th>\n",
       "      <td>4</td>\n",
       "      <td>Germany</td>\n",
       "      <td>3,677,439</td>\n",
       "    </tr>\n",
       "  </tbody>\n",
       "</table>\n",
       "</div>"
      ],
      "text/plain": [
       "  Rank             Country  GDP(US$MM)\n",
       "0    1       United States  19,390,604\n",
       "1       European Union[23]  17,277,698\n",
       "2    2          China[n 4]  12,237,700\n",
       "3    3               Japan   4,872,137\n",
       "4    4             Germany   3,677,439"
      ]
     },
     "execution_count": 19,
     "metadata": {},
     "output_type": "execute_result"
    }
   ],
   "source": [
    "#create dataframe 2\n",
    "df2 = pd.DataFrame(data_rows2, columns=header2)\n",
    "df2.head()"
   ]
  },
  {
   "cell_type": "code",
   "execution_count": 20,
   "id": "1616cbc6",
   "metadata": {},
   "outputs": [
    {
     "data": {
      "text/plain": [
       "['Rank', 'Country', 'GDP(US$MM)']"
      ]
     },
     "execution_count": 20,
     "metadata": {},
     "output_type": "execute_result"
    }
   ],
   "source": [
    "# seperate the header and  data for the third source name\n",
    "header3 = [th.getText().strip() for th in data_tables[2][0].findAll('thead')[0].findAll('th')]\n",
    "header3"
   ]
  },
  {
   "cell_type": "code",
   "execution_count": 21,
   "id": "1794c2c2",
   "metadata": {},
   "outputs": [],
   "source": [
    "#find the rows from data table using findAll for source 3\n",
    "rows3 = data_tables[2][0].findAll('tbody')[0].findAll('tr')[1:]"
   ]
  },
  {
   "cell_type": "code",
   "execution_count": 22,
   "id": "d7a5dee4",
   "metadata": {},
   "outputs": [],
   "source": [
    "# find data from rows3 by using strip function for each td tag\n",
    "data_rows3 = [[td.get_text().strip() for td in tr.findAll('td')] for tr in rows3]"
   ]
  },
  {
   "cell_type": "code",
   "execution_count": 23,
   "id": "8b2b3aec",
   "metadata": {},
   "outputs": [
    {
     "data": {
      "text/html": [
       "<div>\n",
       "<style scoped>\n",
       "    .dataframe tbody tr th:only-of-type {\n",
       "        vertical-align: middle;\n",
       "    }\n",
       "\n",
       "    .dataframe tbody tr th {\n",
       "        vertical-align: top;\n",
       "    }\n",
       "\n",
       "    .dataframe thead th {\n",
       "        text-align: right;\n",
       "    }\n",
       "</style>\n",
       "<table border=\"1\" class=\"dataframe\">\n",
       "  <thead>\n",
       "    <tr style=\"text-align: right;\">\n",
       "      <th></th>\n",
       "      <th>Rank</th>\n",
       "      <th>Country</th>\n",
       "      <th>GDP(US$MM)</th>\n",
       "    </tr>\n",
       "  </thead>\n",
       "  <tbody>\n",
       "    <tr>\n",
       "      <th>0</th>\n",
       "      <td>1</td>\n",
       "      <td>United States</td>\n",
       "      <td>19,390,604</td>\n",
       "    </tr>\n",
       "    <tr>\n",
       "      <th>1</th>\n",
       "      <td></td>\n",
       "      <td>European Union[23]</td>\n",
       "      <td>17,277,698</td>\n",
       "    </tr>\n",
       "    <tr>\n",
       "      <th>2</th>\n",
       "      <td>2</td>\n",
       "      <td>China[n 4]</td>\n",
       "      <td>12,237,700</td>\n",
       "    </tr>\n",
       "    <tr>\n",
       "      <th>3</th>\n",
       "      <td>3</td>\n",
       "      <td>Japan</td>\n",
       "      <td>4,872,137</td>\n",
       "    </tr>\n",
       "    <tr>\n",
       "      <th>4</th>\n",
       "      <td>4</td>\n",
       "      <td>Germany</td>\n",
       "      <td>3,677,439</td>\n",
       "    </tr>\n",
       "  </tbody>\n",
       "</table>\n",
       "</div>"
      ],
      "text/plain": [
       "  Rank             Country  GDP(US$MM)\n",
       "0    1       United States  19,390,604\n",
       "1       European Union[23]  17,277,698\n",
       "2    2          China[n 4]  12,237,700\n",
       "3    3               Japan   4,872,137\n",
       "4    4             Germany   3,677,439"
      ]
     },
     "execution_count": 23,
     "metadata": {},
     "output_type": "execute_result"
    }
   ],
   "source": [
    "#create dataframe 3\n",
    "df3 = pd.DataFrame(data_rows3, columns=header3)\n",
    "df2.head()"
   ]
  },
  {
   "cell_type": "code",
   "execution_count": null,
   "id": "191eff50",
   "metadata": {},
   "outputs": [],
   "source": []
  },
  {
   "cell_type": "markdown",
   "id": "8689b555",
   "metadata": {},
   "source": [
    "###### 2. Data Wrangling with Python: Activity 8, page 233"
   ]
  },
  {
   "cell_type": "code",
   "execution_count": 24,
   "id": "c13bc103",
   "metadata": {},
   "outputs": [],
   "source": [
    "# load libraries\n",
    "import numpy as np\n",
    "import matplotlib.pyplot as plt\n",
    "%matplotlib inline"
   ]
  },
  {
   "cell_type": "code",
   "execution_count": 25,
   "id": "72dabcf6",
   "metadata": {},
   "outputs": [
    {
     "data": {
      "text/html": [
       "<div>\n",
       "<style scoped>\n",
       "    .dataframe tbody tr th:only-of-type {\n",
       "        vertical-align: middle;\n",
       "    }\n",
       "\n",
       "    .dataframe tbody tr th {\n",
       "        vertical-align: top;\n",
       "    }\n",
       "\n",
       "    .dataframe thead th {\n",
       "        text-align: right;\n",
       "    }\n",
       "</style>\n",
       "<table border=\"1\" class=\"dataframe\">\n",
       "  <thead>\n",
       "    <tr style=\"text-align: right;\">\n",
       "      <th></th>\n",
       "      <th>id</th>\n",
       "      <th>first_name</th>\n",
       "      <th>last_name</th>\n",
       "      <th>email</th>\n",
       "      <th>gender</th>\n",
       "      <th>ip_address</th>\n",
       "      <th>visit</th>\n",
       "    </tr>\n",
       "  </thead>\n",
       "  <tbody>\n",
       "    <tr>\n",
       "      <th>0</th>\n",
       "      <td>1</td>\n",
       "      <td>Sonny</td>\n",
       "      <td>Dahl</td>\n",
       "      <td>sdahl0@mysql.com</td>\n",
       "      <td>Male</td>\n",
       "      <td>135.36.96.183</td>\n",
       "      <td>1225.0</td>\n",
       "    </tr>\n",
       "    <tr>\n",
       "      <th>1</th>\n",
       "      <td>2</td>\n",
       "      <td>NaN</td>\n",
       "      <td>NaN</td>\n",
       "      <td>dhoovart1@hud.gov</td>\n",
       "      <td>NaN</td>\n",
       "      <td>237.165.194.143</td>\n",
       "      <td>919.0</td>\n",
       "    </tr>\n",
       "    <tr>\n",
       "      <th>2</th>\n",
       "      <td>3</td>\n",
       "      <td>Gar</td>\n",
       "      <td>Armal</td>\n",
       "      <td>garmal2@technorati.com</td>\n",
       "      <td>NaN</td>\n",
       "      <td>166.43.137.224</td>\n",
       "      <td>271.0</td>\n",
       "    </tr>\n",
       "    <tr>\n",
       "      <th>3</th>\n",
       "      <td>4</td>\n",
       "      <td>Chiarra</td>\n",
       "      <td>Nulty</td>\n",
       "      <td>cnulty3@newyorker.com</td>\n",
       "      <td>NaN</td>\n",
       "      <td>139.98.137.108</td>\n",
       "      <td>1002.0</td>\n",
       "    </tr>\n",
       "    <tr>\n",
       "      <th>4</th>\n",
       "      <td>5</td>\n",
       "      <td>NaN</td>\n",
       "      <td>NaN</td>\n",
       "      <td>sleaver4@elegantthemes.com</td>\n",
       "      <td>NaN</td>\n",
       "      <td>46.117.117.27</td>\n",
       "      <td>2434.0</td>\n",
       "    </tr>\n",
       "  </tbody>\n",
       "</table>\n",
       "</div>"
      ],
      "text/plain": [
       "   id first_name last_name                       email gender  \\\n",
       "0   1      Sonny      Dahl            sdahl0@mysql.com   Male   \n",
       "1   2        NaN       NaN           dhoovart1@hud.gov    NaN   \n",
       "2   3        Gar     Armal      garmal2@technorati.com    NaN   \n",
       "3   4    Chiarra     Nulty       cnulty3@newyorker.com    NaN   \n",
       "4   5        NaN       NaN  sleaver4@elegantthemes.com    NaN   \n",
       "\n",
       "        ip_address   visit  \n",
       "0    135.36.96.183  1225.0  \n",
       "1  237.165.194.143   919.0  \n",
       "2   166.43.137.224   271.0  \n",
       "3   139.98.137.108  1002.0  \n",
       "4    46.117.117.27  2434.0  "
      ]
     },
     "execution_count": 25,
     "metadata": {},
     "output_type": "execute_result"
    }
   ],
   "source": [
    "# loading data to dataframe\n",
    "df_visit = pd.read_csv(\"C:/Users/dell/Documents/Packt-Data_Wrangling/Lesson 6/visit_data.csv\")\n",
    "df_visit.head()"
   ]
  },
  {
   "cell_type": "code",
   "execution_count": 26,
   "id": "e7a7140e",
   "metadata": {},
   "outputs": [
    {
     "name": "stdout",
     "output_type": "stream",
     "text": [
      "Is Duplicate data is present in first_name columns - True\n",
      "Is Duplicate data is present in last_name columns - True\n",
      "Is Duplicate data is present in email_name columns - False\n"
     ]
    }
   ],
   "source": [
    "# find out the duplicates present in required columns\n",
    "print(\"Is Duplicate data is present in first_name columns - {}\".format(any(df_visit.first_name.duplicated())))\n",
    "print(\"Is Duplicate data is present in last_name columns - {}\".format(any(df_visit.last_name.duplicated())))\n",
    "print(\"Is Duplicate data is present in email_name columns - {}\".format(any(df_visit.email.duplicated())))"
   ]
  },
  {
   "cell_type": "code",
   "execution_count": 27,
   "id": "83f0b821",
   "metadata": {},
   "outputs": [
    {
     "name": "stdout",
     "output_type": "stream",
     "text": [
      "is null is present in email -- False\n",
      "is null is present in ipaddress -- False\n",
      "is null is present in visit -- True\n"
     ]
    }
   ],
   "source": [
    "# find out the null present in required columns\n",
    "print(f\"is null is present in email -- {df_visit.email.isnull().values.any()}\")\n",
    "print(f\"is null is present in ipaddress -- {df_visit.ip_address.isnull().values.any()}\")\n",
    "print(f\"is null is present in visit -- {df_visit.visit.isnull().values.any()}\")"
   ]
  },
  {
   "cell_type": "code",
   "execution_count": 28,
   "id": "430c7a39",
   "metadata": {},
   "outputs": [],
   "source": [
    "save_old_shape = df_visit.shape"
   ]
  },
  {
   "cell_type": "code",
   "execution_count": 29,
   "id": "16c81196",
   "metadata": {},
   "outputs": [],
   "source": [
    "# use numpy.isfinite() , fix if an element is finite or not. \n",
    "df_visit = df_visit[np.isfinite(df_visit['visit'])]"
   ]
  },
  {
   "cell_type": "code",
   "execution_count": 30,
   "id": "84729afa",
   "metadata": {},
   "outputs": [
    {
     "name": "stdout",
     "output_type": "stream",
     "text": [
      "old size (1000, 7) new size(974, 7)\n"
     ]
    }
   ],
   "source": [
    "size_after = df_visit.shape\n",
    "print(f\"old size {save_old_shape} new size{size_after}\")"
   ]
  },
  {
   "cell_type": "code",
   "execution_count": 31,
   "id": "9d299e3f",
   "metadata": {},
   "outputs": [
    {
     "data": {
      "text/plain": [
       "{'whiskers': [<matplotlib.lines.Line2D at 0x18cb7320790>,\n",
       "  <matplotlib.lines.Line2D at 0x18cb7320af0>],\n",
       " 'caps': [<matplotlib.lines.Line2D at 0x18cb7320e50>,\n",
       "  <matplotlib.lines.Line2D at 0x18cb73371f0>],\n",
       " 'boxes': [<matplotlib.lines.Line2D at 0x18cb7320430>],\n",
       " 'medians': [<matplotlib.lines.Line2D at 0x18cb7337550>],\n",
       " 'fliers': [<matplotlib.lines.Line2D at 0x18cb73378b0>],\n",
       " 'means': []}"
      ]
     },
     "execution_count": 31,
     "metadata": {},
     "output_type": "execute_result"
    },
    {
     "data": {
      "image/png": "[encoded data removed]",
      "text/plain": [
       "<Figure size 432x288 with 1 Axes>"
      ]
     },
     "metadata": {
      "needs_background": "light"
     },
     "output_type": "display_data"
    }
   ],
   "source": [
    "#plot boxplot to find outliers data\n",
    "plt.boxplot(df_visit.visit, notch=True)"
   ]
  },
  {
   "cell_type": "markdown",
   "id": "2f596765",
   "metadata": {},
   "source": [
    "###### herei found the lots of data points exist in between 700 to 2300, so removing outliers below 100 and above 2900"
   ]
  },
  {
   "cell_type": "code",
   "execution_count": 32,
   "id": "064ff861",
   "metadata": {},
   "outputs": [],
   "source": [
    "df_visit_fix = df_visit[(df_visit['visit'] <= 2900) & (df_visit['visit'] >= 100)]"
   ]
  },
  {
   "cell_type": "code",
   "execution_count": 33,
   "id": "a1bfc916",
   "metadata": {},
   "outputs": [
    {
     "data": {
      "text/plain": [
       "(923, 7)"
      ]
     },
     "execution_count": 33,
     "metadata": {},
     "output_type": "execute_result"
    }
   ],
   "source": [
    "# new shape of dh after fixing outliers\n",
    "df_visit_fix.shape"
   ]
  },
  {
   "cell_type": "code",
   "execution_count": 34,
   "id": "2f6b89b3",
   "metadata": {},
   "outputs": [
    {
     "data": {
      "text/plain": [
       "{'whiskers': [<matplotlib.lines.Line2D at 0x18cb7459400>,\n",
       "  <matplotlib.lines.Line2D at 0x18cb7459760>],\n",
       " 'caps': [<matplotlib.lines.Line2D at 0x18cb7459ac0>,\n",
       "  <matplotlib.lines.Line2D at 0x18cb7459e20>],\n",
       " 'boxes': [<matplotlib.lines.Line2D at 0x18cb74590a0>],\n",
       " 'medians': [<matplotlib.lines.Line2D at 0x18cb74641c0>],\n",
       " 'fliers': [<matplotlib.lines.Line2D at 0x18cb7464520>],\n",
       " 'means': []}"
      ]
     },
     "execution_count": 34,
     "metadata": {},
     "output_type": "execute_result"
    },
    {
     "data": {
      "image/png": "[encoded data removed]",
      "text/plain": [
       "<Figure size 432x288 with 1 Axes>"
      ]
     },
     "metadata": {
      "needs_background": "light"
     },
     "output_type": "display_data"
    }
   ],
   "source": [
    "#plot boxplot to after fixing outliers data\n",
    "plt.boxplot(df_visit_fix.visit, notch=True)"
   ]
  },
  {
   "cell_type": "markdown",
   "id": "51c405c1",
   "metadata": {},
   "source": [
    "###### 3. Insert data into a SQL Lite database – create a table with the following data (Hint: Python for Data Analysis page 191):"
   ]
  },
  {
   "cell_type": "markdown",
   "id": "d406580d",
   "metadata": {},
   "source": [
    "a. Name, Address, City, State, Zip, Phone Number"
   ]
  },
  {
   "cell_type": "code",
   "execution_count": 35,
   "id": "c84ac419",
   "metadata": {},
   "outputs": [],
   "source": [
    "# import sqllite library\n",
    "import sqlite3"
   ]
  },
  {
   "cell_type": "code",
   "execution_count": 36,
   "id": "6c5c4dec",
   "metadata": {},
   "outputs": [],
   "source": [
    "# create ddl statement variable\n",
    "create_table_sql = \"\"\"CREATE TABLE IF NOT EXISTS projects (\n",
    "\tName VARCHAR[20],\n",
    "\tAddress text NOT NULL,\n",
    "\tCity VARCHAR[10],\n",
    "\tState  VARCHAR[10],\n",
    "\tPhone_Number VARCHAR[10]\n",
    ");\"\"\"\n"
   ]
  },
  {
   "cell_type": "code",
   "execution_count": 37,
   "id": "f139be5d",
   "metadata": {},
   "outputs": [],
   "source": [
    "# establish connection with default sqllite connector\n",
    "con = sqlite3.connect('mydata.sqlite')"
   ]
  },
  {
   "cell_type": "code",
   "execution_count": 38,
   "id": "a2e79cf3",
   "metadata": {},
   "outputs": [
    {
     "data": {
      "text/plain": [
       "<sqlite3.Cursor at 0x18cb74915e0>"
      ]
     },
     "execution_count": 38,
     "metadata": {},
     "output_type": "execute_result"
    }
   ],
   "source": [
    "# execute ddl statement \n",
    "con.execute(create_table_sql)"
   ]
  },
  {
   "cell_type": "code",
   "execution_count": 39,
   "id": "95a1ffae",
   "metadata": {},
   "outputs": [],
   "source": [
    "#Commit the transaction \n",
    "con.commit()"
   ]
  },
  {
   "cell_type": "markdown",
   "id": "33be4092",
   "metadata": {},
   "source": [
    "b. Add at least 10 rows of data and submit your code with a query generating your results."
   ]
  },
  {
   "cell_type": "code",
   "execution_count": 40,
   "id": "75d3c82c",
   "metadata": {},
   "outputs": [],
   "source": [
    "# create data list contains sample data for projects table\n",
    "data = [('Prashant', 'test add1', 'moline', 'IL', '123456789'), ('Prashant1', 'test add2', 'moline', 'IL', '123456789'), ('Prashant3', 'test add1', 'moline', 'IL', '123456789'), ('Prashant4', 'test add1', 'moline', 'IL', '123456789'), ('Prashant5', 'test add1', 'moline', 'IL', '123456789'), ('Prashant6', 'test add1', 'moline', 'IL', '123456789'), ('Prashant7', 'test add1', 'moline', 'IL', '123456789'), ('Prashant8', 'test add1', 'moline', 'IL', '123456789'), ('Prashant9', 'test add1', 'moline', 'IL', '123456789'), ('Prashant10', 'test add1', 'moline', 'IL', '123456789')]"
   ]
  },
  {
   "cell_type": "code",
   "execution_count": 41,
   "id": "c8932b78",
   "metadata": {},
   "outputs": [],
   "source": [
    "# create sql select statemet variable\n",
    "sql_statement = \"INSERT INTO projects VALUES(?, ?, ?, ?, ?)\""
   ]
  },
  {
   "cell_type": "code",
   "execution_count": 42,
   "id": "c038c079",
   "metadata": {},
   "outputs": [
    {
     "data": {
      "text/plain": [
       "<sqlite3.Cursor at 0x18cb7491f80>"
      ]
     },
     "execution_count": 42,
     "metadata": {},
     "output_type": "execute_result"
    }
   ],
   "source": [
    "# execute ddm statement \n",
    "con.executemany(sql_statement, data)"
   ]
  },
  {
   "cell_type": "code",
   "execution_count": 43,
   "id": "9ffa3403",
   "metadata": {},
   "outputs": [],
   "source": [
    "#Commit the transaction \n",
    "con.commit()"
   ]
  },
  {
   "cell_type": "code",
   "execution_count": 44,
   "id": "16b900cb",
   "metadata": {},
   "outputs": [
    {
     "data": {
      "text/plain": [
       "[('Prashant', 'test add1', 'moline', 'IL', '123456789'),\n",
       " ('Prashant1', 'test add2', 'moline', 'IL', '123456789'),\n",
       " ('Prashant3', 'test add1', 'moline', 'IL', '123456789'),\n",
       " ('Prashant4', 'test add1', 'moline', 'IL', '123456789'),\n",
       " ('Prashant5', 'test add1', 'moline', 'IL', '123456789'),\n",
       " ('Prashant6', 'test add1', 'moline', 'IL', '123456789'),\n",
       " ('Prashant7', 'test add1', 'moline', 'IL', '123456789'),\n",
       " ('Prashant8', 'test add1', 'moline', 'IL', '123456789'),\n",
       " ('Prashant9', 'test add1', 'moline', 'IL', '123456789'),\n",
       " ('Prashant10', 'test add1', 'moline', 'IL', '123456789'),\n",
       " ('Prashant', 'test add1', 'moline', 'IL', '123456789'),\n",
       " ('Prashant1', 'test add2', 'moline', 'IL', '123456789'),\n",
       " ('Prashant3', 'test add1', 'moline', 'IL', '123456789'),\n",
       " ('Prashant4', 'test add1', 'moline', 'IL', '123456789'),\n",
       " ('Prashant5', 'test add1', 'moline', 'IL', '123456789'),\n",
       " ('Prashant6', 'test add1', 'moline', 'IL', '123456789'),\n",
       " ('Prashant7', 'test add1', 'moline', 'IL', '123456789'),\n",
       " ('Prashant8', 'test add1', 'moline', 'IL', '123456789'),\n",
       " ('Prashant9', 'test add1', 'moline', 'IL', '123456789'),\n",
       " ('Prashant10', 'test add1', 'moline', 'IL', '123456789'),\n",
       " ('Prashant', 'test add1', 'moline', 'IL', '123456789'),\n",
       " ('Prashant1', 'test add2', 'moline', 'IL', '123456789'),\n",
       " ('Prashant3', 'test add1', 'moline', 'IL', '123456789'),\n",
       " ('Prashant4', 'test add1', 'moline', 'IL', '123456789'),\n",
       " ('Prashant5', 'test add1', 'moline', 'IL', '123456789'),\n",
       " ('Prashant6', 'test add1', 'moline', 'IL', '123456789'),\n",
       " ('Prashant7', 'test add1', 'moline', 'IL', '123456789'),\n",
       " ('Prashant8', 'test add1', 'moline', 'IL', '123456789'),\n",
       " ('Prashant9', 'test add1', 'moline', 'IL', '123456789'),\n",
       " ('Prashant10', 'test add1', 'moline', 'IL', '123456789')]"
      ]
     },
     "execution_count": 44,
     "metadata": {},
     "output_type": "execute_result"
    }
   ],
   "source": [
    "# pull out records from table\n",
    "cursor = con.execute('select * from projects')\n",
    "#fetch all rows by using cursor\n",
    "rows = cursor.fetchall()\n",
    "# display the fetched data\n",
    "rows "
   ]
  }
 ],
 "metadata": {
  "kernelspec": {
   "display_name": "Python 3",
   "language": "python",
   "name": "python3"
  },
  "language_info": {
   "codemirror_mode": {
    "name": "ipython",
    "version": 3
   },
   "file_extension": ".py",
   "mimetype": "text/x-python",
   "name": "python",
   "nbconvert_exporter": "python",
   "pygments_lexer": "ipython3",
   "version": "3.8.8"
  }
 },
 "nbformat": 4,
 "nbformat_minor": 5
}
