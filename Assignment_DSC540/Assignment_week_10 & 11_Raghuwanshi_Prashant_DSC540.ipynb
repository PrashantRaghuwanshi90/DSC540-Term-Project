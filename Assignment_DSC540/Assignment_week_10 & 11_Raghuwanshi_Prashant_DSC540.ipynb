{
 "cells": [
  {
   "cell_type": "markdown",
   "id": "5ba22d8e",
   "metadata": {},
   "source": [
    "##### Assignment: Week 10 & Week 11 Exercise, Storing Data and Final Project\n",
    "##### Name: Prashant Raghuwanshi\n",
    "##### Date: 11/13/2021\n",
    "##### Course: DSC540-T301 Data Preparation (2221-1)"
   ]
  },
  {
   "cell_type": "markdown",
   "id": "8dbf7f02",
   "metadata": {},
   "source": [
    "###### Activity 11: Retrieving Data Correctly from Databases"
   ]
  },
  {
   "cell_type": "code",
   "execution_count": 1,
   "id": "4cc83071",
   "metadata": {},
   "outputs": [],
   "source": [
    "# Connect to petsdb database\n",
    "import sqlite3\n",
    "conn = sqlite3.connect(\"petsdb\")"
   ]
  },
  {
   "cell_type": "code",
   "execution_count": 2,
   "id": "c12e85b1",
   "metadata": {},
   "outputs": [],
   "source": [
    "# function to verify the connection\n",
    "def is_opened(conn):\n",
    "    try:\n",
    "        conn.execute(\"select * from persons LIMIT 1\")\n",
    "        return True\n",
    "    except sqllite3.ProgrammingError as e:\n",
    "        print(\"connection closed {}\".formate(e))\n",
    "        return False"
   ]
  },
  {
   "cell_type": "code",
   "execution_count": 3,
   "id": "87795991",
   "metadata": {},
   "outputs": [
    {
     "name": "stdout",
     "output_type": "stream",
     "text": [
      "True\n"
     ]
    }
   ],
   "source": [
    "# verifying  connection\n",
    "print(is_opened(conn))"
   ]
  },
  {
   "cell_type": "code",
   "execution_count": 4,
   "id": "70a00640",
   "metadata": {},
   "outputs": [],
   "source": [
    "# closing the connection\n",
    "conn.close()"
   ]
  },
  {
   "cell_type": "code",
   "execution_count": 5,
   "id": "1b7d52f8",
   "metadata": {},
   "outputs": [],
   "source": [
    "# reconnicting to db with cursor\n",
    "conn = sqlite3.connect('petsdb')\n",
    "c= conn.cursor()"
   ]
  },
  {
   "cell_type": "code",
   "execution_count": 6,
   "id": "87738e7b",
   "metadata": {},
   "outputs": [
    {
     "name": "stdout",
     "output_type": "stream",
     "text": [
      "we have 2 peoples aged 5\n",
      "we have 1 peoples aged 6\n",
      "we have 1 peoples aged 7\n",
      "we have 3 peoples aged 8\n",
      "we have 1 peoples aged 9\n",
      "we have 2 peoples aged 11\n",
      "we have 3 peoples aged 12\n",
      "we have 1 peoples aged 13\n",
      "we have 4 peoples aged 14\n",
      "we have 2 peoples aged 16\n",
      "we have 2 peoples aged 17\n",
      "we have 3 peoples aged 18\n",
      "we have 1 peoples aged 19\n",
      "we have 3 peoples aged 22\n",
      "we have 2 peoples aged 23\n",
      "we have 3 peoples aged 24\n",
      "we have 2 peoples aged 25\n",
      "we have 1 peoples aged 27\n",
      "we have 1 peoples aged 30\n",
      "we have 3 peoples aged 31\n",
      "we have 1 peoples aged 32\n",
      "we have 1 peoples aged 33\n",
      "we have 2 peoples aged 34\n",
      "we have 3 peoples aged 35\n",
      "we have 3 peoples aged 36\n",
      "we have 1 peoples aged 37\n",
      "we have 2 peoples aged 39\n",
      "we have 1 peoples aged 40\n",
      "we have 1 peoples aged 42\n",
      "we have 2 peoples aged 44\n",
      "we have 2 peoples aged 48\n",
      "we have 1 peoples aged 49\n",
      "we have 1 peoples aged 50\n",
      "we have 2 peoples aged 51\n",
      "we have 2 peoples aged 52\n",
      "we have 2 peoples aged 53\n",
      "we have 2 peoples aged 54\n",
      "we have 1 peoples aged 58\n",
      "we have 1 peoples aged 59\n",
      "we have 1 peoples aged 60\n",
      "we have 1 peoples aged 61\n",
      "we have 2 peoples aged 62\n",
      "we have 1 peoples aged 63\n",
      "we have 2 peoples aged 65\n",
      "we have 2 peoples aged 66\n",
      "we have 1 peoples aged 67\n",
      "we have 3 peoples aged 68\n",
      "we have 1 peoples aged 69\n",
      "we have 1 peoples aged 70\n",
      "we have 4 peoples aged 71\n",
      "we have 1 peoples aged 72\n",
      "we have 5 peoples aged 73\n",
      "we have 3 peoples aged 74\n"
     ]
    }
   ],
   "source": [
    "# find out the different age gropus are in person database\n",
    "for ppl, age in c.execute(\"select count(*), age from persons Group BY age\"):\n",
    "    print(\"we have {} peoples aged {}\".format(ppl, age))"
   ]
  },
  {
   "cell_type": "code",
   "execution_count": 7,
   "id": "b977030f",
   "metadata": {},
   "outputs": [
    {
     "name": "stdout",
     "output_type": "stream",
     "text": [
      "Highest no of peoples is 5 and belongs to aged group 73\n"
     ]
    }
   ],
   "source": [
    "# find out which age gropus have highest nunber of person in database\n",
    "for ppl, age in c.execute(\"select count(*), age from persons Group BY age ORDER BY count(*) DESC\"):\n",
    "    print(\"Highest no of peoples is {} and belongs to aged group {}\".format(ppl, age))\n",
    "    break"
   ]
  },
  {
   "cell_type": "code",
   "execution_count": 8,
   "id": "07c8ee1b",
   "metadata": {},
   "outputs": [
    {
     "name": "stdout",
     "output_type": "stream",
     "text": [
      "(60,)\n"
     ]
    }
   ],
   "source": [
    "# find out how many peoples do not have full name\n",
    "res = c.execute(\"select count(*) from persons where last_name is null\")\n",
    "for row in res:\n",
    "    print(row)"
   ]
  },
  {
   "cell_type": "code",
   "execution_count": 9,
   "id": "6a847dc7",
   "metadata": {},
   "outputs": [
    {
     "name": "stdout",
     "output_type": "stream",
     "text": [
      "(43,)\n"
     ]
    }
   ],
   "source": [
    "# find out how many peoples have more than one pet\n",
    "res = c.execute(\"select count(*) from (select count(owner_id) from pets GROUP BY Owner_id HAVING count(owner_id)>1)\") \n",
    "for row in res:\n",
    "    print(row)"
   ]
  },
  {
   "cell_type": "code",
   "execution_count": 10,
   "id": "fef112ee",
   "metadata": {},
   "outputs": [
    {
     "name": "stdout",
     "output_type": "stream",
     "text": [
      "(36,)\n"
     ]
    }
   ],
   "source": [
    "# find out how many pets have recieved treatments, exedcute the following commnad:\n",
    "res = c.execute(\"select count(*) from pets where treatment_done =1\") \n",
    "for row in res:\n",
    "    print(row)"
   ]
  },
  {
   "cell_type": "code",
   "execution_count": 11,
   "id": "be6b6c29",
   "metadata": {},
   "outputs": [
    {
     "name": "stdout",
     "output_type": "stream",
     "text": [
      "(16,)\n"
     ]
    }
   ],
   "source": [
    "# find out how many pets have recieved treatment and the type of pet is known\n",
    "res = c.execute(\"select count(*) from pets where treatment_done =1 and pet_type IS not null\") \n",
    "for row in res:\n",
    "    print(row)"
   ]
  },
  {
   "cell_type": "code",
   "execution_count": 12,
   "id": "7b999de7",
   "metadata": {},
   "outputs": [
    {
     "name": "stdout",
     "output_type": "stream",
     "text": [
      "(49,)\n"
     ]
    }
   ],
   "source": [
    "#find out how many pets are from the city called \"east port\"\n",
    "res = c.execute(\"select count(*) from pets join persons on pets.owner_id = persons.id where persons.city='east port'\") \n",
    "for row in res:\n",
    "    print(row)"
   ]
  },
  {
   "cell_type": "code",
   "execution_count": 13,
   "id": "7eb1f4e8",
   "metadata": {},
   "outputs": [
    {
     "name": "stdout",
     "output_type": "stream",
     "text": [
      "(11,)\n"
     ]
    }
   ],
   "source": [
    "# find out howmany pets are from the city called east pert and who received treatment\n",
    "res = c.execute(\"select count(*) from pets join persons on pets.owner_id = persons.id where persons.city='east port' and pets.treatment_done=1\") \n",
    "for row in res:\n",
    "    print(row)"
   ]
  }
 ],
 "metadata": {
  "kernelspec": {
   "display_name": "Python 3",
   "language": "python",
   "name": "python3"
  },
  "language_info": {
   "codemirror_mode": {
    "name": "ipython",
    "version": 3
   },
   "file_extension": ".py",
   "mimetype": "text/x-python",
   "name": "python",
   "nbconvert_exporter": "python",
   "pygments_lexer": "ipython3",
   "version": "3.8.8"
  }
 },
 "nbformat": 4,
 "nbformat_minor": 5
}
